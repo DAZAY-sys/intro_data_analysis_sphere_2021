{
 "cells": [
  {
   "cell_type": "markdown",
   "metadata": {},
   "source": [
    "### Задача\n",
    "\n",
    "Необходимо выполнить анализ датасета, применив полученные знания из пройденных тем. Для анализа могут быть выбраны любые данные: как уже готовые датасеты из Kaggle или любого другого источника, так и самостоятельно собранные данные.\n",
    "\n",
    "#### Критерии\n",
    "1. Сложность используемого датасета (1 балл) – датасет не должен быть \"игрушечный\", лучше, чтобы это были реальные данные, взятые из реального мира, максимально непредобработанные (например – логи посещения сайтов пользователями). В проекте можно работать как с одной таблицей, так и с несколькими.\n",
    "\n",
    "2. Первичный анализ данных (1 балл) – изучить и описать, как были собраны данные, какие признаки, типы переменных есть в датасете. Описать, как будет происходить исследование, какая цель вашего проекта.\n",
    "\n",
    "3. Предобработка данных (1 балла) – выполнить необходимую агрегацию данных, убрать лишние поля и объекты, дать пояснения, если в предобработке данных нет необходимости – написать, почему.\n",
    "\n",
    "4. Визуальный анализ данных (2 балла) – использовать различные типы графиков, чтобы описать данные, все должно сопровождаться комментариями: какие зависимости или интересные инсайты были получены.\n",
    "\n",
    "5. Проверка статистических гипотез (5 балла) - сформулировать статистические гипотезы в данных и проверить их с помощью статистических критериев (например - если это временной ряд, то изучить, изменились ли средние до и после определённого периода, или можно сравнить данные из разных групп)"
   ]
  },
  {
   "cell_type": "code",
   "execution_count": 1,
   "metadata": {},
   "outputs": [],
   "source": [
    "import pandas as pd\n",
    "import numpy as np\n",
    "from statsmodels.stats.proportion import proportions_ztest\n",
    "\n",
    "import json\n",
    "import chardet\n",
    "import datetime\n",
    "from scipy import stats\n",
    "\n",
    "%matplotlib inline\n",
    "import matplotlib.pyplot as plt\n",
    "import seaborn as sns"
   ]
  },
  {
   "cell_type": "markdown",
   "metadata": {},
   "source": [
    "## Первичный анализ данных\n",
    "\n",
    "Датасет состоит из данных, которые собирались в течение нескольких месяцев, об ежедневных трендовых видео (бралось до 200 экземпляров в день) на YouTube (делалось это с помощью YouTube API). Контент собирался по разным странам отдельно, я выбрала Российскую часть.\n",
    "\n",
    "Датасет содержит такую информацию, как: название видео, название канала, время публикации, теги, просмотры, лайки и дизлайки, описание под роликом и количество комментариев.\n",
    "comments_disabled - запрет на комментарии, их количество 0, если параметр True.\n",
    "ratings_disabled - запрет на лайки\\дизлайки, их количество 0, если параметр True.\n",
    "video_error_or_removed - понятно\n",
    "thunmnail_link - ссылки на превью-изображения.\n",
    "\n",
    "Данные также включают поле category_id, и чтобы получить словесную категорию видео, нужно найти ее в связанном JSON файле."
   ]
  },
  {
   "cell_type": "code",
   "execution_count": 2,
   "metadata": {},
   "outputs": [
    {
     "name": "stdout",
     "output_type": "stream",
     "text": [
      "{'encoding': 'utf-8', 'confidence': 0.99, 'language': ''}\n"
     ]
    }
   ],
   "source": [
    "with open('datasets/RUvideos.csv', 'rb') as rawdata:\n",
    "    result = chardet.detect(rawdata.read(10000))\n",
    "\n",
    "print(result)"
   ]
  },
  {
   "cell_type": "code",
   "execution_count": 3,
   "metadata": {},
   "outputs": [],
   "source": [
    "df = pd.read_csv('datasets/RUvideos_saved.csv',encoding='utf-8')"
   ]
  },
  {
   "cell_type": "code",
   "execution_count": 4,
   "metadata": {},
   "outputs": [
    {
     "data": {
      "text/html": [
       "<div>\n",
       "<style scoped>\n",
       "    .dataframe tbody tr th:only-of-type {\n",
       "        vertical-align: middle;\n",
       "    }\n",
       "\n",
       "    .dataframe tbody tr th {\n",
       "        vertical-align: top;\n",
       "    }\n",
       "\n",
       "    .dataframe thead th {\n",
       "        text-align: right;\n",
       "    }\n",
       "</style>\n",
       "<table border=\"1\" class=\"dataframe\">\n",
       "  <thead>\n",
       "    <tr style=\"text-align: right;\">\n",
       "      <th></th>\n",
       "      <th>video_id</th>\n",
       "      <th>trending_date</th>\n",
       "      <th>title</th>\n",
       "      <th>channel_title</th>\n",
       "      <th>category_id</th>\n",
       "      <th>publish_time</th>\n",
       "      <th>tags</th>\n",
       "      <th>views</th>\n",
       "      <th>likes</th>\n",
       "      <th>dislikes</th>\n",
       "      <th>comment_count</th>\n",
       "      <th>thumbnail_link</th>\n",
       "      <th>comments_disabled</th>\n",
       "      <th>ratings_disabled</th>\n",
       "      <th>video_error_or_removed</th>\n",
       "      <th>description</th>\n",
       "    </tr>\n",
       "  </thead>\n",
       "  <tbody>\n",
       "    <tr>\n",
       "      <th>0</th>\n",
       "      <td>gDuslQ9avLc</td>\n",
       "      <td>17.14.11</td>\n",
       "      <td>Захар и Полина учатся экономить</td>\n",
       "      <td>Т—Ж БОГАЧ</td>\n",
       "      <td>22</td>\n",
       "      <td>2017-11-13T09:09:31.000Z</td>\n",
       "      <td>захар и полина|\"учимся экономить\"|\"копить день...</td>\n",
       "      <td>62408</td>\n",
       "      <td>334</td>\n",
       "      <td>190</td>\n",
       "      <td>50</td>\n",
       "      <td>https://i.ytimg.com/vi/gDuslQ9avLc/default.jpg</td>\n",
       "      <td>False</td>\n",
       "      <td>False</td>\n",
       "      <td>False</td>\n",
       "      <td>Знакомьтесь, это Захар и Полина. Вместе с ними...</td>\n",
       "    </tr>\n",
       "    <tr>\n",
       "      <th>1</th>\n",
       "      <td>AOCJIFEA_jE</td>\n",
       "      <td>17.14.11</td>\n",
       "      <td>Биржа Мемов #29. Большой выпуск</td>\n",
       "      <td>Druzhko Show</td>\n",
       "      <td>22</td>\n",
       "      <td>2017-11-13T17:32:11.000Z</td>\n",
       "      <td>биржа мемов|\"лев шагинян\"|\"мемы\"|\"пикчи\"|\"друж...</td>\n",
       "      <td>330043</td>\n",
       "      <td>43841</td>\n",
       "      <td>2244</td>\n",
       "      <td>2977</td>\n",
       "      <td>https://i.ytimg.com/vi/AOCJIFEA_jE/default.jpg</td>\n",
       "      <td>False</td>\n",
       "      <td>False</td>\n",
       "      <td>False</td>\n",
       "      <td>В 29 выпуске Дружко Шоу Сергей сказал, что Бир...</td>\n",
       "    </tr>\n",
       "    <tr>\n",
       "      <th>2</th>\n",
       "      <td>VAWNQDgwwOM</td>\n",
       "      <td>17.14.11</td>\n",
       "      <td>ХАЙП КЭМП - СВОЙ СРЕДИ ЧУЖИХ</td>\n",
       "      <td>Юлик</td>\n",
       "      <td>24</td>\n",
       "      <td>2017-11-13T16:11:31.000Z</td>\n",
       "      <td>юмор|\"комедия\"|\"влог\"|\"блог\"|\"смешно\"|\"смешное...</td>\n",
       "      <td>424596</td>\n",
       "      <td>49854</td>\n",
       "      <td>714</td>\n",
       "      <td>2944</td>\n",
       "      <td>https://i.ytimg.com/vi/VAWNQDgwwOM/default.jpg</td>\n",
       "      <td>False</td>\n",
       "      <td>False</td>\n",
       "      <td>False</td>\n",
       "      <td>http://kapitany.ru/!Yulik.cap - Факультет #Кап...</td>\n",
       "    </tr>\n",
       "    <tr>\n",
       "      <th>3</th>\n",
       "      <td>gknkFwKQfHg</td>\n",
       "      <td>17.14.11</td>\n",
       "      <td>Сочная кесадилья с курицей</td>\n",
       "      <td>Hochland</td>\n",
       "      <td>22</td>\n",
       "      <td>2017-11-13T06:51:10.000Z</td>\n",
       "      <td>хохланд|\"сыр\"|\"рецепты\"|\"как приготовить\"|\"вку...</td>\n",
       "      <td>112851</td>\n",
       "      <td>3566</td>\n",
       "      <td>122</td>\n",
       "      <td>80</td>\n",
       "      <td>https://i.ytimg.com/vi/gknkFwKQfHg/default.jpg</td>\n",
       "      <td>False</td>\n",
       "      <td>False</td>\n",
       "      <td>False</td>\n",
       "      <td>*** как готовить ресторанные блюда дома</td>\n",
       "    </tr>\n",
       "    <tr>\n",
       "      <th>4</th>\n",
       "      <td>3sYvZcwzZr8</td>\n",
       "      <td>17.14.11</td>\n",
       "      <td>КЛИПЫ РОДИТЕЛЕЙ НА ШКОЛЬНЫЙ ВЫПУСКНОЙ</td>\n",
       "      <td>Совергон</td>\n",
       "      <td>24</td>\n",
       "      <td>2017-11-13T16:52:36.000Z</td>\n",
       "      <td>Совергон|\"Sovergon\"|\"клипы\"|\"родители\"|\"школа\"...</td>\n",
       "      <td>243469</td>\n",
       "      <td>36216</td>\n",
       "      <td>631</td>\n",
       "      <td>1692</td>\n",
       "      <td>https://i.ytimg.com/vi/3sYvZcwzZr8/default.jpg</td>\n",
       "      <td>False</td>\n",
       "      <td>False</td>\n",
       "      <td>False</td>\n",
       "      <td>❏ КОНКУРС КАПИТАНЫ: http://kapitany.ru/!Soverg...</td>\n",
       "    </tr>\n",
       "  </tbody>\n",
       "</table>\n",
       "</div>"
      ],
      "text/plain": [
       "      video_id trending_date                                  title  \\\n",
       "0  gDuslQ9avLc      17.14.11        Захар и Полина учатся экономить   \n",
       "1  AOCJIFEA_jE      17.14.11       Биржа Мемов #29. Большой выпуск   \n",
       "2  VAWNQDgwwOM      17.14.11           ХАЙП КЭМП - СВОЙ СРЕДИ ЧУЖИХ   \n",
       "3  gknkFwKQfHg      17.14.11             Сочная кесадилья с курицей   \n",
       "4  3sYvZcwzZr8      17.14.11  КЛИПЫ РОДИТЕЛЕЙ НА ШКОЛЬНЫЙ ВЫПУСКНОЙ   \n",
       "\n",
       "  channel_title  category_id              publish_time  \\\n",
       "0     Т—Ж БОГАЧ           22  2017-11-13T09:09:31.000Z   \n",
       "1  Druzhko Show           22  2017-11-13T17:32:11.000Z   \n",
       "2          Юлик           24  2017-11-13T16:11:31.000Z   \n",
       "3      Hochland           22  2017-11-13T06:51:10.000Z   \n",
       "4      Совергон           24  2017-11-13T16:52:36.000Z   \n",
       "\n",
       "                                                tags   views  likes  dislikes  \\\n",
       "0  захар и полина|\"учимся экономить\"|\"копить день...   62408    334       190   \n",
       "1  биржа мемов|\"лев шагинян\"|\"мемы\"|\"пикчи\"|\"друж...  330043  43841      2244   \n",
       "2  юмор|\"комедия\"|\"влог\"|\"блог\"|\"смешно\"|\"смешное...  424596  49854       714   \n",
       "3  хохланд|\"сыр\"|\"рецепты\"|\"как приготовить\"|\"вку...  112851   3566       122   \n",
       "4  Совергон|\"Sovergon\"|\"клипы\"|\"родители\"|\"школа\"...  243469  36216       631   \n",
       "\n",
       "   comment_count                                  thumbnail_link  \\\n",
       "0             50  https://i.ytimg.com/vi/gDuslQ9avLc/default.jpg   \n",
       "1           2977  https://i.ytimg.com/vi/AOCJIFEA_jE/default.jpg   \n",
       "2           2944  https://i.ytimg.com/vi/VAWNQDgwwOM/default.jpg   \n",
       "3             80  https://i.ytimg.com/vi/gknkFwKQfHg/default.jpg   \n",
       "4           1692  https://i.ytimg.com/vi/3sYvZcwzZr8/default.jpg   \n",
       "\n",
       "   comments_disabled  ratings_disabled  video_error_or_removed  \\\n",
       "0              False             False                   False   \n",
       "1              False             False                   False   \n",
       "2              False             False                   False   \n",
       "3              False             False                   False   \n",
       "4              False             False                   False   \n",
       "\n",
       "                                         description  \n",
       "0  Знакомьтесь, это Захар и Полина. Вместе с ними...  \n",
       "1  В 29 выпуске Дружко Шоу Сергей сказал, что Бир...  \n",
       "2  http://kapitany.ru/!Yulik.cap - Факультет #Кап...  \n",
       "3            *** как готовить ресторанные блюда дома  \n",
       "4  ❏ КОНКУРС КАПИТАНЫ: http://kapitany.ru/!Soverg...  "
      ]
     },
     "execution_count": 4,
     "metadata": {},
     "output_type": "execute_result"
    }
   ],
   "source": [
    "df.head()"
   ]
  },
  {
   "cell_type": "code",
   "execution_count": 5,
   "metadata": {},
   "outputs": [
    {
     "name": "stdout",
     "output_type": "stream",
     "text": [
      "<class 'pandas.core.frame.DataFrame'>\n",
      "RangeIndex: 40739 entries, 0 to 40738\n",
      "Data columns (total 16 columns):\n",
      " #   Column                  Non-Null Count  Dtype \n",
      "---  ------                  --------------  ----- \n",
      " 0   video_id                40739 non-null  object\n",
      " 1   trending_date           40739 non-null  object\n",
      " 2   title                   40739 non-null  object\n",
      " 3   channel_title           40739 non-null  object\n",
      " 4   category_id             40739 non-null  int64 \n",
      " 5   publish_time            40739 non-null  object\n",
      " 6   tags                    40739 non-null  object\n",
      " 7   views                   40739 non-null  int64 \n",
      " 8   likes                   40739 non-null  int64 \n",
      " 9   dislikes                40739 non-null  int64 \n",
      " 10  comment_count           40739 non-null  int64 \n",
      " 11  thumbnail_link          40739 non-null  object\n",
      " 12  comments_disabled       40739 non-null  bool  \n",
      " 13  ratings_disabled        40739 non-null  bool  \n",
      " 14  video_error_or_removed  40739 non-null  bool  \n",
      " 15  description             38275 non-null  object\n",
      "dtypes: bool(3), int64(5), object(8)\n",
      "memory usage: 4.2+ MB\n"
     ]
    }
   ],
   "source": [
    "df.info()"
   ]
  },
  {
   "cell_type": "code",
   "execution_count": 6,
   "metadata": {},
   "outputs": [
    {
     "data": {
      "text/html": [
       "<div>\n",
       "<style scoped>\n",
       "    .dataframe tbody tr th:only-of-type {\n",
       "        vertical-align: middle;\n",
       "    }\n",
       "\n",
       "    .dataframe tbody tr th {\n",
       "        vertical-align: top;\n",
       "    }\n",
       "\n",
       "    .dataframe thead th {\n",
       "        text-align: right;\n",
       "    }\n",
       "</style>\n",
       "<table border=\"1\" class=\"dataframe\">\n",
       "  <thead>\n",
       "    <tr style=\"text-align: right;\">\n",
       "      <th></th>\n",
       "      <th>category_id</th>\n",
       "      <th>views</th>\n",
       "      <th>likes</th>\n",
       "      <th>dislikes</th>\n",
       "      <th>comment_count</th>\n",
       "    </tr>\n",
       "  </thead>\n",
       "  <tbody>\n",
       "    <tr>\n",
       "      <th>count</th>\n",
       "      <td>40739.000000</td>\n",
       "      <td>4.073900e+04</td>\n",
       "      <td>4.073900e+04</td>\n",
       "      <td>40739.000000</td>\n",
       "      <td>40739.000000</td>\n",
       "    </tr>\n",
       "    <tr>\n",
       "      <th>mean</th>\n",
       "      <td>20.261936</td>\n",
       "      <td>2.407152e+05</td>\n",
       "      <td>1.243522e+04</td>\n",
       "      <td>1475.199612</td>\n",
       "      <td>1775.231179</td>\n",
       "    </tr>\n",
       "    <tr>\n",
       "      <th>std</th>\n",
       "      <td>7.890955</td>\n",
       "      <td>9.345111e+05</td>\n",
       "      <td>6.038280e+04</td>\n",
       "      <td>8582.480809</td>\n",
       "      <td>11275.028305</td>\n",
       "    </tr>\n",
       "    <tr>\n",
       "      <th>min</th>\n",
       "      <td>1.000000</td>\n",
       "      <td>1.170000e+02</td>\n",
       "      <td>0.000000e+00</td>\n",
       "      <td>0.000000</td>\n",
       "      <td>0.000000</td>\n",
       "    </tr>\n",
       "    <tr>\n",
       "      <th>25%</th>\n",
       "      <td>20.000000</td>\n",
       "      <td>2.258750e+04</td>\n",
       "      <td>4.025000e+02</td>\n",
       "      <td>31.000000</td>\n",
       "      <td>73.000000</td>\n",
       "    </tr>\n",
       "    <tr>\n",
       "      <th>50%</th>\n",
       "      <td>22.000000</td>\n",
       "      <td>6.631600e+04</td>\n",
       "      <td>1.880000e+03</td>\n",
       "      <td>128.000000</td>\n",
       "      <td>309.000000</td>\n",
       "    </tr>\n",
       "    <tr>\n",
       "      <th>75%</th>\n",
       "      <td>25.000000</td>\n",
       "      <td>1.951310e+05</td>\n",
       "      <td>7.791000e+03</td>\n",
       "      <td>586.000000</td>\n",
       "      <td>1107.000000</td>\n",
       "    </tr>\n",
       "    <tr>\n",
       "      <th>max</th>\n",
       "      <td>43.000000</td>\n",
       "      <td>6.279639e+07</td>\n",
       "      <td>4.470923e+06</td>\n",
       "      <td>884967.000000</td>\n",
       "      <td>905925.000000</td>\n",
       "    </tr>\n",
       "  </tbody>\n",
       "</table>\n",
       "</div>"
      ],
      "text/plain": [
       "        category_id         views         likes       dislikes  comment_count\n",
       "count  40739.000000  4.073900e+04  4.073900e+04   40739.000000   40739.000000\n",
       "mean      20.261936  2.407152e+05  1.243522e+04    1475.199612    1775.231179\n",
       "std        7.890955  9.345111e+05  6.038280e+04    8582.480809   11275.028305\n",
       "min        1.000000  1.170000e+02  0.000000e+00       0.000000       0.000000\n",
       "25%       20.000000  2.258750e+04  4.025000e+02      31.000000      73.000000\n",
       "50%       22.000000  6.631600e+04  1.880000e+03     128.000000     309.000000\n",
       "75%       25.000000  1.951310e+05  7.791000e+03     586.000000    1107.000000\n",
       "max       43.000000  6.279639e+07  4.470923e+06  884967.000000  905925.000000"
      ]
     },
     "execution_count": 6,
     "metadata": {},
     "output_type": "execute_result"
    }
   ],
   "source": [
    "df.describe()"
   ]
  },
  {
   "cell_type": "markdown",
   "metadata": {},
   "source": [
    "### Предобработка данных\n",
    "1. Поменяем тип у столбцов publish_time, trending_date на datetime, чтобы можно было сравнивать по времени.\n"
   ]
  },
  {
   "cell_type": "code",
   "execution_count": 7,
   "metadata": {},
   "outputs": [],
   "source": [
    "with open('datasets/RU_category_id.json') as f:\n",
    "    category = json.load(f)"
   ]
  },
  {
   "cell_type": "code",
   "execution_count": 8,
   "metadata": {},
   "outputs": [],
   "source": [
    "df['publish_time'] = pd.to_datetime(df['publish_time'])\n",
    "\n",
    "for j, i in enumerate(df['trending_date']):\n",
    "    w = i.split('.')\n",
    "    df.loc[j, ['trending_date']] = datetime.datetime(int('20' + w[0]),\\\n",
    "                           int(w[2]), int(w[1]))"
   ]
  },
  {
   "cell_type": "markdown",
   "metadata": {},
   "source": [
    "2. Удалим столбцы, отвечающие за bool характеристики (ratings_disabled, omments_disabled), проверив, что пустые значения корректно заменяются,\n",
    "3. Удалим поле thumbnail_link, дающее ссылку на фото-превью, и bool признак video_error_or_removed, потому что статистика от видео у нас осталась, значит можно рассматривать эти видео."
   ]
  },
  {
   "cell_type": "code",
   "execution_count": 9,
   "metadata": {},
   "outputs": [],
   "source": [
    "d1 = df[df.ratings_disabled == True]\n",
    "d2 = df[df.comments_disabled == True]\n",
    "\n",
    "if (all(d1.likes == 0) and all(d1.dislikes == 0) and all(d2.comment_count == 0)):\n",
    "    df.drop(['ratings_disabled','comments_disabled', 'video_error_or_removed', \\\n",
    "         'thumbnail_link'], axis = 1, inplace = True)"
   ]
  },
  {
   "cell_type": "markdown",
   "metadata": {},
   "source": [
    "4. Заменим поле category_id на данные из JSON файла, удалив те, что не было в JSON найдены."
   ]
  },
  {
   "cell_type": "code",
   "execution_count": 10,
   "metadata": {},
   "outputs": [],
   "source": [
    "category_id_title = dict()\n",
    "for i, categ_real in enumerate(category['items']):\n",
    "    category_id_title[int(categ_real['id'])] = categ_real['snippet']['title']"
   ]
  },
  {
   "cell_type": "code",
   "execution_count": 11,
   "metadata": {},
   "outputs": [],
   "source": [
    "for i, categ_ref in enumerate(df.category_id):\n",
    "    if (categ_ref not in category_id_title):\n",
    "        df.drop([i], axis = 0, inplace = True)\n",
    "    else:\n",
    "        df.loc[i, ['category_id']] = category_id_title[categ_ref]"
   ]
  },
  {
   "cell_type": "code",
   "execution_count": 12,
   "metadata": {},
   "outputs": [
    {
     "data": {
      "text/html": [
       "<div>\n",
       "<style scoped>\n",
       "    .dataframe tbody tr th:only-of-type {\n",
       "        vertical-align: middle;\n",
       "    }\n",
       "\n",
       "    .dataframe tbody tr th {\n",
       "        vertical-align: top;\n",
       "    }\n",
       "\n",
       "    .dataframe thead th {\n",
       "        text-align: right;\n",
       "    }\n",
       "</style>\n",
       "<table border=\"1\" class=\"dataframe\">\n",
       "  <thead>\n",
       "    <tr style=\"text-align: right;\">\n",
       "      <th></th>\n",
       "      <th>video_id</th>\n",
       "      <th>trending_date</th>\n",
       "      <th>title</th>\n",
       "      <th>channel_title</th>\n",
       "      <th>category_id</th>\n",
       "      <th>publish_time</th>\n",
       "      <th>tags</th>\n",
       "      <th>views</th>\n",
       "      <th>likes</th>\n",
       "      <th>dislikes</th>\n",
       "      <th>comment_count</th>\n",
       "      <th>description</th>\n",
       "    </tr>\n",
       "  </thead>\n",
       "  <tbody>\n",
       "    <tr>\n",
       "      <th>0</th>\n",
       "      <td>gDuslQ9avLc</td>\n",
       "      <td>2017-11-14 00:00:00</td>\n",
       "      <td>Захар и Полина учатся экономить</td>\n",
       "      <td>Т—Ж БОГАЧ</td>\n",
       "      <td>People &amp; Blogs</td>\n",
       "      <td>2017-11-13 09:09:31+00:00</td>\n",
       "      <td>захар и полина|\"учимся экономить\"|\"копить день...</td>\n",
       "      <td>62408</td>\n",
       "      <td>334</td>\n",
       "      <td>190</td>\n",
       "      <td>50</td>\n",
       "      <td>Знакомьтесь, это Захар и Полина. Вместе с ними...</td>\n",
       "    </tr>\n",
       "    <tr>\n",
       "      <th>1</th>\n",
       "      <td>AOCJIFEA_jE</td>\n",
       "      <td>2017-11-14 00:00:00</td>\n",
       "      <td>Биржа Мемов #29. Большой выпуск</td>\n",
       "      <td>Druzhko Show</td>\n",
       "      <td>People &amp; Blogs</td>\n",
       "      <td>2017-11-13 17:32:11+00:00</td>\n",
       "      <td>биржа мемов|\"лев шагинян\"|\"мемы\"|\"пикчи\"|\"друж...</td>\n",
       "      <td>330043</td>\n",
       "      <td>43841</td>\n",
       "      <td>2244</td>\n",
       "      <td>2977</td>\n",
       "      <td>В 29 выпуске Дружко Шоу Сергей сказал, что Бир...</td>\n",
       "    </tr>\n",
       "    <tr>\n",
       "      <th>2</th>\n",
       "      <td>VAWNQDgwwOM</td>\n",
       "      <td>2017-11-14 00:00:00</td>\n",
       "      <td>ХАЙП КЭМП - СВОЙ СРЕДИ ЧУЖИХ</td>\n",
       "      <td>Юлик</td>\n",
       "      <td>Entertainment</td>\n",
       "      <td>2017-11-13 16:11:31+00:00</td>\n",
       "      <td>юмор|\"комедия\"|\"влог\"|\"блог\"|\"смешно\"|\"смешное...</td>\n",
       "      <td>424596</td>\n",
       "      <td>49854</td>\n",
       "      <td>714</td>\n",
       "      <td>2944</td>\n",
       "      <td>http://kapitany.ru/!Yulik.cap - Факультет #Кап...</td>\n",
       "    </tr>\n",
       "    <tr>\n",
       "      <th>3</th>\n",
       "      <td>gknkFwKQfHg</td>\n",
       "      <td>2017-11-14 00:00:00</td>\n",
       "      <td>Сочная кесадилья с курицей</td>\n",
       "      <td>Hochland</td>\n",
       "      <td>People &amp; Blogs</td>\n",
       "      <td>2017-11-13 06:51:10+00:00</td>\n",
       "      <td>хохланд|\"сыр\"|\"рецепты\"|\"как приготовить\"|\"вку...</td>\n",
       "      <td>112851</td>\n",
       "      <td>3566</td>\n",
       "      <td>122</td>\n",
       "      <td>80</td>\n",
       "      <td>*** как готовить ресторанные блюда дома</td>\n",
       "    </tr>\n",
       "    <tr>\n",
       "      <th>4</th>\n",
       "      <td>3sYvZcwzZr8</td>\n",
       "      <td>2017-11-14 00:00:00</td>\n",
       "      <td>КЛИПЫ РОДИТЕЛЕЙ НА ШКОЛЬНЫЙ ВЫПУСКНОЙ</td>\n",
       "      <td>Совергон</td>\n",
       "      <td>Entertainment</td>\n",
       "      <td>2017-11-13 16:52:36+00:00</td>\n",
       "      <td>Совергон|\"Sovergon\"|\"клипы\"|\"родители\"|\"школа\"...</td>\n",
       "      <td>243469</td>\n",
       "      <td>36216</td>\n",
       "      <td>631</td>\n",
       "      <td>1692</td>\n",
       "      <td>❏ КОНКУРС КАПИТАНЫ: http://kapitany.ru/!Soverg...</td>\n",
       "    </tr>\n",
       "  </tbody>\n",
       "</table>\n",
       "</div>"
      ],
      "text/plain": [
       "      video_id        trending_date                                  title  \\\n",
       "0  gDuslQ9avLc  2017-11-14 00:00:00        Захар и Полина учатся экономить   \n",
       "1  AOCJIFEA_jE  2017-11-14 00:00:00       Биржа Мемов #29. Большой выпуск   \n",
       "2  VAWNQDgwwOM  2017-11-14 00:00:00           ХАЙП КЭМП - СВОЙ СРЕДИ ЧУЖИХ   \n",
       "3  gknkFwKQfHg  2017-11-14 00:00:00             Сочная кесадилья с курицей   \n",
       "4  3sYvZcwzZr8  2017-11-14 00:00:00  КЛИПЫ РОДИТЕЛЕЙ НА ШКОЛЬНЫЙ ВЫПУСКНОЙ   \n",
       "\n",
       "  channel_title     category_id              publish_time  \\\n",
       "0     Т—Ж БОГАЧ  People & Blogs 2017-11-13 09:09:31+00:00   \n",
       "1  Druzhko Show  People & Blogs 2017-11-13 17:32:11+00:00   \n",
       "2          Юлик   Entertainment 2017-11-13 16:11:31+00:00   \n",
       "3      Hochland  People & Blogs 2017-11-13 06:51:10+00:00   \n",
       "4      Совергон   Entertainment 2017-11-13 16:52:36+00:00   \n",
       "\n",
       "                                                tags   views  likes  dislikes  \\\n",
       "0  захар и полина|\"учимся экономить\"|\"копить день...   62408    334       190   \n",
       "1  биржа мемов|\"лев шагинян\"|\"мемы\"|\"пикчи\"|\"друж...  330043  43841      2244   \n",
       "2  юмор|\"комедия\"|\"влог\"|\"блог\"|\"смешно\"|\"смешное...  424596  49854       714   \n",
       "3  хохланд|\"сыр\"|\"рецепты\"|\"как приготовить\"|\"вку...  112851   3566       122   \n",
       "4  Совергон|\"Sovergon\"|\"клипы\"|\"родители\"|\"школа\"...  243469  36216       631   \n",
       "\n",
       "   comment_count                                        description  \n",
       "0             50  Знакомьтесь, это Захар и Полина. Вместе с ними...  \n",
       "1           2977  В 29 выпуске Дружко Шоу Сергей сказал, что Бир...  \n",
       "2           2944  http://kapitany.ru/!Yulik.cap - Факультет #Кап...  \n",
       "3             80            *** как готовить ресторанные блюда дома  \n",
       "4           1692  ❏ КОНКУРС КАПИТАНЫ: http://kapitany.ru/!Soverg...  "
      ]
     },
     "execution_count": 12,
     "metadata": {},
     "output_type": "execute_result"
    }
   ],
   "source": [
    "df.head()"
   ]
  },
  {
   "cell_type": "markdown",
   "metadata": {},
   "source": [
    "## Визуальный анализ данных\n",
    "\n",
    "Визуально оценим поведение датасета в видео-категориях:\n",
    "1. Из какой категории чаще всего видео попадали в топ?\n",
    "2. Коррелируют ли числовые признаки друг с другом?\n",
    "3. Как числовые признаки соотносятся в среднем между собой в каждой категории?"
   ]
  },
  {
   "cell_type": "code",
   "execution_count": 13,
   "metadata": {
    "scrolled": false
   },
   "outputs": [
    {
     "data": {
      "text/plain": [
       "<matplotlib.axes._subplots.AxesSubplot at 0x19edf0f3e20>"
      ]
     },
     "execution_count": 13,
     "metadata": {},
     "output_type": "execute_result"
    },
    {
     "data": {
      "image/png": "[encoded data removed]",
      "text/plain": [
       "<Figure size 720x504 with 1 Axes>"
      ]
     },
     "metadata": {
      "needs_background": "light"
     },
     "output_type": "display_data"
    }
   ],
   "source": [
    "fig = plt.figure(figsize = (10, 7))\n",
    "\n",
    "plt.title('Количество видео в видео-категориях, попавших в топ')\n",
    "sns.countplot(y = df['category_id'])"
   ]
  },
  {
   "cell_type": "markdown",
   "metadata": {},
   "source": [
    "По графику видно, что в топ чаще всего попадают видео из категории People & Blogs, причем отрыв по сравнению с другими категориями достаточно большой."
   ]
  },
  {
   "cell_type": "markdown",
   "metadata": {},
   "source": [
    "Рассмотрим зависимости признаки друг от друга. Например, есть ли корреляция между количеством просмотров и количеством дизлайков?"
   ]
  },
  {
   "cell_type": "code",
   "execution_count": 14,
   "metadata": {},
   "outputs": [
    {
     "data": {
      "text/plain": [
       "<matplotlib.axes._subplots.AxesSubplot at 0x19ee04216d0>"
      ]
     },
     "execution_count": 14,
     "metadata": {},
     "output_type": "execute_result"
    },
    {
     "data": {
      "image/png": "[encoded data removed]",
      "text/plain": [
       "<Figure size 1008x360 with 2 Axes>"
      ]
     },
     "metadata": {
      "needs_background": "light"
     },
     "output_type": "display_data"
    }
   ],
   "source": [
    "cols = ['views','likes','dislikes','comment_count']\n",
    "\n",
    "fig = plt.figure(figsize = (14,5))\n",
    "plt.title('Зависимости признаков друг от друга')\n",
    "sns.heatmap(df[cols].corr(), cmap = 'coolwarm')"
   ]
  },
  {
   "cell_type": "markdown",
   "metadata": {},
   "source": [
    "Логично было увидеть, что лайки будут зависеть от просмотров, не так очевидно, что они примерно также зависят от количества комментариев (аналогичые зависимости у количества просмотров и количества комментариев).\n",
    "\n",
    "Интересно, что количество дизлайков практически никак ни с кем не коррелирует, причем от количества просмотров дизлайки зависят меньше, чем от количества комментариев (недовольство хочется обсудить?)."
   ]
  },
  {
   "cell_type": "markdown",
   "metadata": {},
   "source": [
    "Оценим средние значения признаков в категориях."
   ]
  },
  {
   "cell_type": "code",
   "execution_count": 15,
   "metadata": {},
   "outputs": [
    {
     "data": {
      "image/png": "[encoded data removed]",
      "text/plain": [
       "<Figure size 720x648 with 4 Axes>"
      ]
     },
     "metadata": {
      "needs_background": "light"
     },
     "output_type": "display_data"
    }
   ],
   "source": [
    "df.groupby(['category_id'])[cols].mean().plot.bar(figsize=(10,9), stacked = True,\n",
    "                          title='Средние значения числ. параметров категориях', subplots = True)\n",
    "plt.show()"
   ]
  },
  {
   "cell_type": "markdown",
   "metadata": {},
   "source": [
    "Итого категория Music по всем параметрам получила, в среднем, больше всего лайков, просмотров, комментарив но и дизлайков (интересно, лидер не категория People & Blogs, которая чаще всего в топе появляется).\n",
    "\n",
    "Минимум и по лайкам и по просмотрам занимает категория Education :)"
   ]
  },
  {
   "cell_type": "markdown",
   "metadata": {},
   "source": [
    "## Проверка статистических гипотез\n",
    "\n"
   ]
  },
  {
   "cell_type": "markdown",
   "metadata": {},
   "source": [
    "Проверим две статические гипотезы, связанные с категориями видео.\n",
    "\n",
    "\n",
    "Возьмем две лидирующие по разным параметрам категории (Music, как лидер по числовым параметрам, и People & Blogs, как лидер по частоте попадания в топ).\n",
    "\n",
    "**Задача.** Некоторый блогер думает, какую категорию поставить своему видео: Music или People & Blogs. И он знает статистику за последний месяц, что:\n",
    "1. Первая категория попала в топ 8 раз, причем 3 из них превысило порог реакций (реакция - сумма количества всех лайков, дизлайков и комментариев; порог - низший предел отклика, который ютубер хочет получать),\n",
    "2. Вторая категория попала в топ 37 раз, 12 из них соответствуют порогу.\n",
    "\n",
    "Решить, какую категорию видео выставлять."
   ]
  },
  {
   "cell_type": "markdown",
   "metadata": {},
   "source": [
    "H0: доля реакций по двум категориям одинакова.\n",
    "\n",
    "H1: доля реакций по People & Blogs категории больше, чем по Music категории.\n",
    "\n",
    "При решении используется Z-критерий для несвязанных выборок."
   ]
  },
  {
   "cell_type": "code",
   "execution_count": 16,
   "metadata": {},
   "outputs": [
    {
     "name": "stdout",
     "output_type": "stream",
     "text": [
      "Количество попавших в топ из Music категории -  8\n",
      "Количество попавших в топ из People & Blogs категории -  37\n"
     ]
    }
   ],
   "source": [
    "df_last_month = df[df.trending_date >= datetime.datetime(2018, 6, 14)]\n",
    "music_count = len(df_last_month[df_last_month.category_id == 'Music'])\n",
    "blog_count = len(df_last_month[df_last_month.category_id == 'People & Blogs'])\n",
    "\n",
    "print('Количество попавших в топ из Music категории - ', music_count)\n",
    "print('Количество попавших в топ из People & Blogs категории - ', blog_count)"
   ]
  },
  {
   "cell_type": "code",
   "execution_count": 17,
   "metadata": {},
   "outputs": [
    {
     "name": "stdout",
     "output_type": "stream",
     "text": [
      "Количество прошедших по порогу из Music категории -  3\n",
      "Количество прошедших по порогу из People & Blogs категории -  12\n"
     ]
    }
   ],
   "source": [
    "threshold = 8000\n",
    "df_music = df_last_month[df_last_month.category_id == 'Music']\n",
    "df_blogs = df_last_month[df_last_month.category_id == 'People & Blogs']\n",
    "numb_music = df_music[df_music.likes + df_music.dislikes + df_music.comment_count > threshold]\n",
    "numb_blogs = df_blogs[df_blogs.likes + df_blogs.dislikes + df_blogs.comment_count > threshold]\n",
    "\n",
    "print('Количество прошедших по порогу из Music категории - ', len(numb_music))\n",
    "print('Количество прошедших по порогу из People & Blogs категории - ', len(numb_blogs))"
   ]
  },
  {
   "cell_type": "code",
   "execution_count": 18,
   "metadata": {},
   "outputs": [
    {
     "data": {
      "text/plain": [
       "(0.2757054832851778, 0.608612858121134)"
      ]
     },
     "execution_count": 18,
     "metadata": {},
     "output_type": "execute_result"
    }
   ],
   "source": [
    "count = np.array([len(numb_music), len(numb_blogs)])\n",
    "nobs = np.array([music_count, blog_count])\n",
    "proportions_ztest(count, nobs, alternative = 'smaller')"
   ]
  },
  {
   "cell_type": "markdown",
   "metadata": {},
   "source": [
    "Если у блогера есть информация только за последний месяц, а порог остается именно таким (8000 реакций любого характера), то нулевая гипотеза не отвергается (так как pvalue > 0.05), и, в среднем, доля реакций по двум категориям можно считать одинаковой."
   ]
  },
  {
   "cell_type": "markdown",
   "metadata": {},
   "source": [
    "Продолжим смотреть те же категории за последний месяц.\n",
    "\n",
    "**Задача.** Хорошо, блогер выберет произвольную категорию по желанию. Есть ли разница, когда выкладывать видео? Есть ли разница между средним временем выкладывания видео в этих двух категориях?"
   ]
  },
  {
   "cell_type": "markdown",
   "metadata": {},
   "source": [
    "H0: Среднее время выкладывания видео в категориях Music и People & Blogs одинаковое.\n",
    "\n",
    "H1: Среднее время выкладывания видео в категориях Music и People & Blogs разное.\n",
    "\n",
    "При решении используется критерий Манна-Уитни, т.к. выборки не связаны."
   ]
  },
  {
   "cell_type": "code",
   "execution_count": 20,
   "metadata": {},
   "outputs": [],
   "source": [
    "music_s = numb_music.trending_date - numb_music.publish_time\n",
    "blog_s = numb_blogs.trending_date - numb_blogs.publish_time"
   ]
  },
  {
   "cell_type": "code",
   "execution_count": 21,
   "metadata": {},
   "outputs": [],
   "source": [
    "stats.mannwhitneyu(music_s, blog_s, alternative='two-sided')"
   ]
  },
  {
   "cell_type": "markdown",
   "metadata": {},
   "source": [
    "Заругался на несоответсвие дат друг-другу, исправить не успела, но идейно делается так, и как обычно, смотрим на pvalue и отбрасываем или оставляем нулевую гипотезу."
   ]
  }
 ],
 "metadata": {
  "kernelspec": {
   "display_name": "Python 3",
   "language": "python",
   "name": "python3"
  },
  "language_info": {
   "codemirror_mode": {
    "name": "ipython",
    "version": 3
   },
   "file_extension": ".py",
   "mimetype": "text/x-python",
   "name": "python",
   "nbconvert_exporter": "python",
   "pygments_lexer": "ipython3",
   "version": "3.8.3"
  }
 },
 "nbformat": 4,
 "nbformat_minor": 4
}
